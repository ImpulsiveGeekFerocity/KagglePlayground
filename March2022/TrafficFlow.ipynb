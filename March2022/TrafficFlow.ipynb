{
  "nbformat": 4,
  "nbformat_minor": 0,
  "metadata": {
    "colab": {
      "name": "TrafficFlow.ipynb",
      "provenance": [],
      "collapsed_sections": []
    },
    "kernelspec": {
      "name": "python3",
      "display_name": "Python 3"
    },
    "language_info": {
      "name": "python"
    }
  },
  "cells": [
    {
      "cell_type": "markdown",
      "source": [
        "# Download competition data\n",
        "\n",
        "(unnecessary in kaggle)"
      ],
      "metadata": {
        "id": "1jB1VfIBkzIa"
      }
    },
    {
      "cell_type": "code",
      "execution_count": 2,
      "metadata": {
        "colab": {
          "base_uri": "https://localhost:8080/"
        },
        "id": "5b4wVW-fjlZe",
        "outputId": "db050829-cfba-4c30-f022-918d1be79f80"
      },
      "outputs": [
        {
          "output_type": "stream",
          "name": "stdout",
          "text": [
            "Mounted at /content/gdrive\n"
          ]
        }
      ],
      "source": [
        "from google.colab import drive\n",
        "drive.mount(\"/content/gdrive\", force_remount=True)"
      ]
    },
    {
      "cell_type": "code",
      "source": [
        "import os\n",
        "os.environ['KAGGLE_CONFIG_DIR'] = \"/content/gdrive/MyDrive/Kaggle\""
      ],
      "metadata": {
        "id": "1Xc6TWJ3j-EB"
      },
      "execution_count": 3,
      "outputs": []
    },
    {
      "cell_type": "code",
      "source": [
        "!kaggle competitions download -cq tabular-playground-series-mar-2022\n",
        "\n",
        "!unzip -qn train.csv.zip\n",
        "!rm train.csv.zip"
      ],
      "metadata": {
        "id": "hHP_QuS6kGDY",
        "colab": {
          "base_uri": "https://localhost:8080/"
        },
        "outputId": "854e4ab6-91ed-4184-845b-9501f88a5b67"
      },
      "execution_count": 4,
      "outputs": [
        {
          "output_type": "stream",
          "name": "stdout",
          "text": [
            "Warning: Looks like you're using an outdated API Version, please consider updating (server 1.5.12 / client 1.5.4)\n",
            "Downloading train.csv.zip to /content\n",
            "  0% 0.00/4.69M [00:00<?, ?B/s]\n",
            "100% 4.69M/4.69M [00:00<00:00, 43.4MB/s]\n",
            "test.csv: Skipping, found more recently modified local copy (use --force to force download)\n",
            "sample_submission.csv: Skipping, found more recently modified local copy (use --force to force download)\n"
          ]
        }
      ]
    },
    {
      "cell_type": "markdown",
      "source": [
        "# Solution"
      ],
      "metadata": {
        "id": "RtT9HuKmlKNI"
      }
    },
    {
      "cell_type": "markdown",
      "source": [
        "## Import libraries"
      ],
      "metadata": {
        "id": "SI3-IMEYnKeB"
      }
    },
    {
      "cell_type": "code",
      "source": [
        "import numpy as np\n",
        "import pandas as pd\n",
        "import matplotlib.pyplot as plt\n",
        "\n",
        "import datetime\n",
        "import tqdm\n",
        "\n",
        "from sklearn.ensemble import RandomForestRegressor\n",
        "from sklearn.model_selection import RandomizedSearchCV\n",
        "from sklearn.model_selection import GridSearchCV\n",
        "from sklearn.model_selection import train_test_split\n",
        "from sklearn.metrics import mean_absolute_error"
      ],
      "metadata": {
        "id": "Ld2fiFpvkw7x"
      },
      "execution_count": 5,
      "outputs": []
    },
    {
      "cell_type": "markdown",
      "source": [
        "## Load data\n",
        "\n",
        "* train.csv - the training set, comprising measurements of traffic congestion across __65 roadways__ from April through September of 1991.\n",
        "  * row_id - a unique identifier for this instance\n",
        "  * time - the 20-minute period in which each measurement was taken\n",
        "  * x - the east-west midpoint coordinate of the roadway\n",
        "  * y - the north-south midpoint coordinate of the roadway\n",
        "  * direction - the direction of travel of the roadway. EB indicates \"eastbound\" travel, for example, while SW indicates a \"southwest\" direction of travel.\n",
        "  * congestion - congestion levels for the roadway during each hour; the target. The congestion measurements have been normalized to the range 0 to 100.\n",
        "* test.csv - the test set; you will make hourly predictions for roadways identified by a coordinate location and a direction of travel on the day of __1991-09-30__.\n",
        "* sample_submission.csv - a sample submission file in the correct format"
      ],
      "metadata": {
        "id": "MQiMO0S3nPM4"
      }
    },
    {
      "cell_type": "code",
      "source": [
        "train = pd.read_csv(\"train.csv\", index_col=\"row_id\", parse_dates=[\"time\"])\n",
        "test = pd.read_csv(\"test.csv\", index_col=\"row_id\", parse_dates=[\"time\"])\n",
        "submission = pd.read_csv(\"sample_submission.csv\", index_col=\"row_id\")"
      ],
      "metadata": {
        "id": "qEWyWJZilZfr"
      },
      "execution_count": 6,
      "outputs": []
    },
    {
      "cell_type": "code",
      "source": [
        "train.info()"
      ],
      "metadata": {
        "colab": {
          "base_uri": "https://localhost:8080/"
        },
        "id": "S146IqCDl_zA",
        "outputId": "235e45d8-0341-444c-d0a4-44e6174b1d40"
      },
      "execution_count": 7,
      "outputs": [
        {
          "output_type": "stream",
          "name": "stdout",
          "text": [
            "<class 'pandas.core.frame.DataFrame'>\n",
            "Int64Index: 848835 entries, 0 to 848834\n",
            "Data columns (total 5 columns):\n",
            " #   Column      Non-Null Count   Dtype         \n",
            "---  ------      --------------   -----         \n",
            " 0   time        848835 non-null  datetime64[ns]\n",
            " 1   x           848835 non-null  int64         \n",
            " 2   y           848835 non-null  int64         \n",
            " 3   direction   848835 non-null  object        \n",
            " 4   congestion  848835 non-null  int64         \n",
            "dtypes: datetime64[ns](1), int64(3), object(1)\n",
            "memory usage: 38.9+ MB\n"
          ]
        }
      ]
    },
    {
      "cell_type": "code",
      "source": [
        "train.head(5)"
      ],
      "metadata": {
        "colab": {
          "base_uri": "https://localhost:8080/",
          "height": 238
        },
        "id": "DWkZ0FG8mzlX",
        "outputId": "69527e3a-a216-4821-d3c5-5e538b81f5c0"
      },
      "execution_count": 8,
      "outputs": [
        {
          "output_type": "execute_result",
          "data": {
            "text/html": [
              "\n",
              "  <div id=\"df-f253d1fe-ffe5-4a7e-adce-e5784b3bf160\">\n",
              "    <div class=\"colab-df-container\">\n",
              "      <div>\n",
              "<style scoped>\n",
              "    .dataframe tbody tr th:only-of-type {\n",
              "        vertical-align: middle;\n",
              "    }\n",
              "\n",
              "    .dataframe tbody tr th {\n",
              "        vertical-align: top;\n",
              "    }\n",
              "\n",
              "    .dataframe thead th {\n",
              "        text-align: right;\n",
              "    }\n",
              "</style>\n",
              "<table border=\"1\" class=\"dataframe\">\n",
              "  <thead>\n",
              "    <tr style=\"text-align: right;\">\n",
              "      <th></th>\n",
              "      <th>time</th>\n",
              "      <th>x</th>\n",
              "      <th>y</th>\n",
              "      <th>direction</th>\n",
              "      <th>congestion</th>\n",
              "    </tr>\n",
              "    <tr>\n",
              "      <th>row_id</th>\n",
              "      <th></th>\n",
              "      <th></th>\n",
              "      <th></th>\n",
              "      <th></th>\n",
              "      <th></th>\n",
              "    </tr>\n",
              "  </thead>\n",
              "  <tbody>\n",
              "    <tr>\n",
              "      <th>0</th>\n",
              "      <td>1991-04-01</td>\n",
              "      <td>0</td>\n",
              "      <td>0</td>\n",
              "      <td>EB</td>\n",
              "      <td>70</td>\n",
              "    </tr>\n",
              "    <tr>\n",
              "      <th>1</th>\n",
              "      <td>1991-04-01</td>\n",
              "      <td>0</td>\n",
              "      <td>0</td>\n",
              "      <td>NB</td>\n",
              "      <td>49</td>\n",
              "    </tr>\n",
              "    <tr>\n",
              "      <th>2</th>\n",
              "      <td>1991-04-01</td>\n",
              "      <td>0</td>\n",
              "      <td>0</td>\n",
              "      <td>SB</td>\n",
              "      <td>24</td>\n",
              "    </tr>\n",
              "    <tr>\n",
              "      <th>3</th>\n",
              "      <td>1991-04-01</td>\n",
              "      <td>0</td>\n",
              "      <td>1</td>\n",
              "      <td>EB</td>\n",
              "      <td>18</td>\n",
              "    </tr>\n",
              "    <tr>\n",
              "      <th>4</th>\n",
              "      <td>1991-04-01</td>\n",
              "      <td>0</td>\n",
              "      <td>1</td>\n",
              "      <td>NB</td>\n",
              "      <td>60</td>\n",
              "    </tr>\n",
              "  </tbody>\n",
              "</table>\n",
              "</div>\n",
              "      <button class=\"colab-df-convert\" onclick=\"convertToInteractive('df-f253d1fe-ffe5-4a7e-adce-e5784b3bf160')\"\n",
              "              title=\"Convert this dataframe to an interactive table.\"\n",
              "              style=\"display:none;\">\n",
              "        \n",
              "  <svg xmlns=\"http://www.w3.org/2000/svg\" height=\"24px\"viewBox=\"0 0 24 24\"\n",
              "       width=\"24px\">\n",
              "    <path d=\"M0 0h24v24H0V0z\" fill=\"none\"/>\n",
              "    <path d=\"M18.56 5.44l.94 2.06.94-2.06 2.06-.94-2.06-.94-.94-2.06-.94 2.06-2.06.94zm-11 1L8.5 8.5l.94-2.06 2.06-.94-2.06-.94L8.5 2.5l-.94 2.06-2.06.94zm10 10l.94 2.06.94-2.06 2.06-.94-2.06-.94-.94-2.06-.94 2.06-2.06.94z\"/><path d=\"M17.41 7.96l-1.37-1.37c-.4-.4-.92-.59-1.43-.59-.52 0-1.04.2-1.43.59L10.3 9.45l-7.72 7.72c-.78.78-.78 2.05 0 2.83L4 21.41c.39.39.9.59 1.41.59.51 0 1.02-.2 1.41-.59l7.78-7.78 2.81-2.81c.8-.78.8-2.07 0-2.86zM5.41 20L4 18.59l7.72-7.72 1.47 1.35L5.41 20z\"/>\n",
              "  </svg>\n",
              "      </button>\n",
              "      \n",
              "  <style>\n",
              "    .colab-df-container {\n",
              "      display:flex;\n",
              "      flex-wrap:wrap;\n",
              "      gap: 12px;\n",
              "    }\n",
              "\n",
              "    .colab-df-convert {\n",
              "      background-color: #E8F0FE;\n",
              "      border: none;\n",
              "      border-radius: 50%;\n",
              "      cursor: pointer;\n",
              "      display: none;\n",
              "      fill: #1967D2;\n",
              "      height: 32px;\n",
              "      padding: 0 0 0 0;\n",
              "      width: 32px;\n",
              "    }\n",
              "\n",
              "    .colab-df-convert:hover {\n",
              "      background-color: #E2EBFA;\n",
              "      box-shadow: 0px 1px 2px rgba(60, 64, 67, 0.3), 0px 1px 3px 1px rgba(60, 64, 67, 0.15);\n",
              "      fill: #174EA6;\n",
              "    }\n",
              "\n",
              "    [theme=dark] .colab-df-convert {\n",
              "      background-color: #3B4455;\n",
              "      fill: #D2E3FC;\n",
              "    }\n",
              "\n",
              "    [theme=dark] .colab-df-convert:hover {\n",
              "      background-color: #434B5C;\n",
              "      box-shadow: 0px 1px 3px 1px rgba(0, 0, 0, 0.15);\n",
              "      filter: drop-shadow(0px 1px 2px rgba(0, 0, 0, 0.3));\n",
              "      fill: #FFFFFF;\n",
              "    }\n",
              "  </style>\n",
              "\n",
              "      <script>\n",
              "        const buttonEl =\n",
              "          document.querySelector('#df-f253d1fe-ffe5-4a7e-adce-e5784b3bf160 button.colab-df-convert');\n",
              "        buttonEl.style.display =\n",
              "          google.colab.kernel.accessAllowed ? 'block' : 'none';\n",
              "\n",
              "        async function convertToInteractive(key) {\n",
              "          const element = document.querySelector('#df-f253d1fe-ffe5-4a7e-adce-e5784b3bf160');\n",
              "          const dataTable =\n",
              "            await google.colab.kernel.invokeFunction('convertToInteractive',\n",
              "                                                     [key], {});\n",
              "          if (!dataTable) return;\n",
              "\n",
              "          const docLinkHtml = 'Like what you see? Visit the ' +\n",
              "            '<a target=\"_blank\" href=https://colab.research.google.com/notebooks/data_table.ipynb>data table notebook</a>'\n",
              "            + ' to learn more about interactive tables.';\n",
              "          element.innerHTML = '';\n",
              "          dataTable['output_type'] = 'display_data';\n",
              "          await google.colab.output.renderOutput(dataTable, element);\n",
              "          const docLink = document.createElement('div');\n",
              "          docLink.innerHTML = docLinkHtml;\n",
              "          element.appendChild(docLink);\n",
              "        }\n",
              "      </script>\n",
              "    </div>\n",
              "  </div>\n",
              "  "
            ],
            "text/plain": [
              "             time  x  y direction  congestion\n",
              "row_id                                       \n",
              "0      1991-04-01  0  0        EB          70\n",
              "1      1991-04-01  0  0        NB          49\n",
              "2      1991-04-01  0  0        SB          24\n",
              "3      1991-04-01  0  1        EB          18\n",
              "4      1991-04-01  0  1        NB          60"
            ]
          },
          "metadata": {},
          "execution_count": 8
        }
      ]
    },
    {
      "cell_type": "code",
      "source": [
        "print(train['direction'].unique())\n",
        "print(test['direction'].unique())"
      ],
      "metadata": {
        "colab": {
          "base_uri": "https://localhost:8080/"
        },
        "id": "XVIGlR0LpkCR",
        "outputId": "5ad2e3f7-ee89-4cd7-a69b-65b3e614cc61"
      },
      "execution_count": 9,
      "outputs": [
        {
          "output_type": "stream",
          "name": "stdout",
          "text": [
            "['EB' 'NB' 'SB' 'WB' 'NE' 'SW' 'NW' 'SE']\n",
            "['EB' 'NB' 'SB' 'WB' 'NE' 'SW' 'NW' 'SE']\n"
          ]
        }
      ]
    },
    {
      "cell_type": "code",
      "source": [
        "print(train['x'].unique(), train['y'].unique())\n",
        "print(test['x'].unique(), test['y'].unique())"
      ],
      "metadata": {
        "colab": {
          "base_uri": "https://localhost:8080/"
        },
        "id": "P3hHvKWfq6SJ",
        "outputId": "45511021-7758-4e17-f9b7-a27f0e2e7da3"
      },
      "execution_count": 10,
      "outputs": [
        {
          "output_type": "stream",
          "name": "stdout",
          "text": [
            "[0 1 2] [0 1 2 3]\n",
            "[0 1 2] [0 1 2 3]\n"
          ]
        }
      ]
    },
    {
      "cell_type": "code",
      "source": [
        "n, bins, patches = plt.hist('congestion', data=train, bins=20, color='crimson')\n",
        "\n",
        "\n",
        "plt.xlabel('Congestion')\n",
        "plt.ylabel('Count')\n",
        "plt.title('Histogram of Congestion')\n",
        "plt.xlim(0, 100)\n",
        "plt.grid(True)\n",
        "plt.show()"
      ],
      "metadata": {
        "colab": {
          "base_uri": "https://localhost:8080/",
          "height": 295
        },
        "id": "T1NioRF01FEv",
        "outputId": "8c640035-4306-4a83-9ad0-0b9ff0df12d5"
      },
      "execution_count": 11,
      "outputs": [
        {
          "output_type": "display_data",
          "data": {
            "image/png": "[encoded data removed]",
            "text/plain": [
              "<Figure size 432x288 with 1 Axes>"
            ]
          },
          "metadata": {
            "needs_background": "light"
          }
        }
      ]
    },
    {
      "cell_type": "markdown",
      "source": [
        "## Feature engineering"
      ],
      "metadata": {
        "id": "YWRlbzkn1BWA"
      }
    },
    {
      "cell_type": "code",
      "source": [
        "train['road'] = train[['x','y','direction']].apply(tuple, axis=1)\n",
        "train.head(5)"
      ],
      "metadata": {
        "colab": {
          "base_uri": "https://localhost:8080/",
          "height": 238
        },
        "id": "uZWZR6hrr4_z",
        "outputId": "fd94dbc8-2499-4529-866d-06a45c9c5cfa"
      },
      "execution_count": 12,
      "outputs": [
        {
          "output_type": "execute_result",
          "data": {
            "text/html": [
              "\n",
              "  <div id=\"df-3614f033-390b-456f-9db6-349610a15c56\">\n",
              "    <div class=\"colab-df-container\">\n",
              "      <div>\n",
              "<style scoped>\n",
              "    .dataframe tbody tr th:only-of-type {\n",
              "        vertical-align: middle;\n",
              "    }\n",
              "\n",
              "    .dataframe tbody tr th {\n",
              "        vertical-align: top;\n",
              "    }\n",
              "\n",
              "    .dataframe thead th {\n",
              "        text-align: right;\n",
              "    }\n",
              "</style>\n",
              "<table border=\"1\" class=\"dataframe\">\n",
              "  <thead>\n",
              "    <tr style=\"text-align: right;\">\n",
              "      <th></th>\n",
              "      <th>time</th>\n",
              "      <th>x</th>\n",
              "      <th>y</th>\n",
              "      <th>direction</th>\n",
              "      <th>congestion</th>\n",
              "      <th>road</th>\n",
              "    </tr>\n",
              "    <tr>\n",
              "      <th>row_id</th>\n",
              "      <th></th>\n",
              "      <th></th>\n",
              "      <th></th>\n",
              "      <th></th>\n",
              "      <th></th>\n",
              "      <th></th>\n",
              "    </tr>\n",
              "  </thead>\n",
              "  <tbody>\n",
              "    <tr>\n",
              "      <th>0</th>\n",
              "      <td>1991-04-01</td>\n",
              "      <td>0</td>\n",
              "      <td>0</td>\n",
              "      <td>EB</td>\n",
              "      <td>70</td>\n",
              "      <td>(0, 0, EB)</td>\n",
              "    </tr>\n",
              "    <tr>\n",
              "      <th>1</th>\n",
              "      <td>1991-04-01</td>\n",
              "      <td>0</td>\n",
              "      <td>0</td>\n",
              "      <td>NB</td>\n",
              "      <td>49</td>\n",
              "      <td>(0, 0, NB)</td>\n",
              "    </tr>\n",
              "    <tr>\n",
              "      <th>2</th>\n",
              "      <td>1991-04-01</td>\n",
              "      <td>0</td>\n",
              "      <td>0</td>\n",
              "      <td>SB</td>\n",
              "      <td>24</td>\n",
              "      <td>(0, 0, SB)</td>\n",
              "    </tr>\n",
              "    <tr>\n",
              "      <th>3</th>\n",
              "      <td>1991-04-01</td>\n",
              "      <td>0</td>\n",
              "      <td>1</td>\n",
              "      <td>EB</td>\n",
              "      <td>18</td>\n",
              "      <td>(0, 1, EB)</td>\n",
              "    </tr>\n",
              "    <tr>\n",
              "      <th>4</th>\n",
              "      <td>1991-04-01</td>\n",
              "      <td>0</td>\n",
              "      <td>1</td>\n",
              "      <td>NB</td>\n",
              "      <td>60</td>\n",
              "      <td>(0, 1, NB)</td>\n",
              "    </tr>\n",
              "  </tbody>\n",
              "</table>\n",
              "</div>\n",
              "      <button class=\"colab-df-convert\" onclick=\"convertToInteractive('df-3614f033-390b-456f-9db6-349610a15c56')\"\n",
              "              title=\"Convert this dataframe to an interactive table.\"\n",
              "              style=\"display:none;\">\n",
              "        \n",
              "  <svg xmlns=\"http://www.w3.org/2000/svg\" height=\"24px\"viewBox=\"0 0 24 24\"\n",
              "       width=\"24px\">\n",
              "    <path d=\"M0 0h24v24H0V0z\" fill=\"none\"/>\n",
              "    <path d=\"M18.56 5.44l.94 2.06.94-2.06 2.06-.94-2.06-.94-.94-2.06-.94 2.06-2.06.94zm-11 1L8.5 8.5l.94-2.06 2.06-.94-2.06-.94L8.5 2.5l-.94 2.06-2.06.94zm10 10l.94 2.06.94-2.06 2.06-.94-2.06-.94-.94-2.06-.94 2.06-2.06.94z\"/><path d=\"M17.41 7.96l-1.37-1.37c-.4-.4-.92-.59-1.43-.59-.52 0-1.04.2-1.43.59L10.3 9.45l-7.72 7.72c-.78.78-.78 2.05 0 2.83L4 21.41c.39.39.9.59 1.41.59.51 0 1.02-.2 1.41-.59l7.78-7.78 2.81-2.81c.8-.78.8-2.07 0-2.86zM5.41 20L4 18.59l7.72-7.72 1.47 1.35L5.41 20z\"/>\n",
              "  </svg>\n",
              "      </button>\n",
              "      \n",
              "  <style>\n",
              "    .colab-df-container {\n",
              "      display:flex;\n",
              "      flex-wrap:wrap;\n",
              "      gap: 12px;\n",
              "    }\n",
              "\n",
              "    .colab-df-convert {\n",
              "      background-color: #E8F0FE;\n",
              "      border: none;\n",
              "      border-radius: 50%;\n",
              "      cursor: pointer;\n",
              "      display: none;\n",
              "      fill: #1967D2;\n",
              "      height: 32px;\n",
              "      padding: 0 0 0 0;\n",
              "      width: 32px;\n",
              "    }\n",
              "\n",
              "    .colab-df-convert:hover {\n",
              "      background-color: #E2EBFA;\n",
              "      box-shadow: 0px 1px 2px rgba(60, 64, 67, 0.3), 0px 1px 3px 1px rgba(60, 64, 67, 0.15);\n",
              "      fill: #174EA6;\n",
              "    }\n",
              "\n",
              "    [theme=dark] .colab-df-convert {\n",
              "      background-color: #3B4455;\n",
              "      fill: #D2E3FC;\n",
              "    }\n",
              "\n",
              "    [theme=dark] .colab-df-convert:hover {\n",
              "      background-color: #434B5C;\n",
              "      box-shadow: 0px 1px 3px 1px rgba(0, 0, 0, 0.15);\n",
              "      filter: drop-shadow(0px 1px 2px rgba(0, 0, 0, 0.3));\n",
              "      fill: #FFFFFF;\n",
              "    }\n",
              "  </style>\n",
              "\n",
              "      <script>\n",
              "        const buttonEl =\n",
              "          document.querySelector('#df-3614f033-390b-456f-9db6-349610a15c56 button.colab-df-convert');\n",
              "        buttonEl.style.display =\n",
              "          google.colab.kernel.accessAllowed ? 'block' : 'none';\n",
              "\n",
              "        async function convertToInteractive(key) {\n",
              "          const element = document.querySelector('#df-3614f033-390b-456f-9db6-349610a15c56');\n",
              "          const dataTable =\n",
              "            await google.colab.kernel.invokeFunction('convertToInteractive',\n",
              "                                                     [key], {});\n",
              "          if (!dataTable) return;\n",
              "\n",
              "          const docLinkHtml = 'Like what you see? Visit the ' +\n",
              "            '<a target=\"_blank\" href=https://colab.research.google.com/notebooks/data_table.ipynb>data table notebook</a>'\n",
              "            + ' to learn more about interactive tables.';\n",
              "          element.innerHTML = '';\n",
              "          dataTable['output_type'] = 'display_data';\n",
              "          await google.colab.output.renderOutput(dataTable, element);\n",
              "          const docLink = document.createElement('div');\n",
              "          docLink.innerHTML = docLinkHtml;\n",
              "          element.appendChild(docLink);\n",
              "        }\n",
              "      </script>\n",
              "    </div>\n",
              "  </div>\n",
              "  "
            ],
            "text/plain": [
              "             time  x  y direction  congestion        road\n",
              "row_id                                                   \n",
              "0      1991-04-01  0  0        EB          70  (0, 0, EB)\n",
              "1      1991-04-01  0  0        NB          49  (0, 0, NB)\n",
              "2      1991-04-01  0  0        SB          24  (0, 0, SB)\n",
              "3      1991-04-01  0  1        EB          18  (0, 1, EB)\n",
              "4      1991-04-01  0  1        NB          60  (0, 1, NB)"
            ]
          },
          "metadata": {},
          "execution_count": 12
        }
      ]
    },
    {
      "cell_type": "code",
      "source": [
        "roads = {i:c for i,c in enumerate(train.road.unique())}\n",
        "rev_roads = {c:i for i,c in enumerate(train.road.unique())}\n",
        "directions = {i:c for i,c in enumerate(train.direction.unique())}\n",
        "rev_directions = {c:i for i,c in enumerate(train.direction.unique())}"
      ],
      "metadata": {
        "id": "_9JL-CarskHd"
      },
      "execution_count": 33,
      "outputs": []
    },
    {
      "cell_type": "code",
      "source": [
        "train['road_id'] = [rev_roads[r] for r in train.road]\n",
        "train['direction_id'] = [rev_directions[r] for r in train.direction]\n",
        "train.tail(10)"
      ],
      "metadata": {
        "colab": {
          "base_uri": "https://localhost:8080/",
          "height": 394
        },
        "id": "Vwir4U3v3IsH",
        "outputId": "e8d167bc-4e5d-44aa-a0ca-b3c7454a57c0"
      },
      "execution_count": 34,
      "outputs": [
        {
          "output_type": "execute_result",
          "data": {
            "text/html": [
              "\n",
              "  <div id=\"df-653bc237-5b89-4009-8538-1aed9f842083\">\n",
              "    <div class=\"colab-df-container\">\n",
              "      <div>\n",
              "<style scoped>\n",
              "    .dataframe tbody tr th:only-of-type {\n",
              "        vertical-align: middle;\n",
              "    }\n",
              "\n",
              "    .dataframe tbody tr th {\n",
              "        vertical-align: top;\n",
              "    }\n",
              "\n",
              "    .dataframe thead th {\n",
              "        text-align: right;\n",
              "    }\n",
              "</style>\n",
              "<table border=\"1\" class=\"dataframe\">\n",
              "  <thead>\n",
              "    <tr style=\"text-align: right;\">\n",
              "      <th></th>\n",
              "      <th>time</th>\n",
              "      <th>x</th>\n",
              "      <th>y</th>\n",
              "      <th>direction</th>\n",
              "      <th>congestion</th>\n",
              "      <th>road</th>\n",
              "      <th>road_id</th>\n",
              "      <th>month</th>\n",
              "      <th>day</th>\n",
              "      <th>hour</th>\n",
              "      <th>minute</th>\n",
              "      <th>days_past</th>\n",
              "      <th>weekday</th>\n",
              "      <th>is_weekend</th>\n",
              "      <th>direction_id</th>\n",
              "    </tr>\n",
              "    <tr>\n",
              "      <th>row_id</th>\n",
              "      <th></th>\n",
              "      <th></th>\n",
              "      <th></th>\n",
              "      <th></th>\n",
              "      <th></th>\n",
              "      <th></th>\n",
              "      <th></th>\n",
              "      <th></th>\n",
              "      <th></th>\n",
              "      <th></th>\n",
              "      <th></th>\n",
              "      <th></th>\n",
              "      <th></th>\n",
              "      <th></th>\n",
              "      <th></th>\n",
              "    </tr>\n",
              "  </thead>\n",
              "  <tbody>\n",
              "    <tr>\n",
              "      <th>818535</th>\n",
              "      <td>1991-09-23 23:40:00</td>\n",
              "      <td>2</td>\n",
              "      <td>2</td>\n",
              "      <td>SB</td>\n",
              "      <td>52</td>\n",
              "      <td>(2, 2, SB)</td>\n",
              "      <td>55</td>\n",
              "      <td>9</td>\n",
              "      <td>23</td>\n",
              "      <td>23</td>\n",
              "      <td>40</td>\n",
              "      <td>175</td>\n",
              "      <td>0</td>\n",
              "      <td>0</td>\n",
              "      <td>2</td>\n",
              "    </tr>\n",
              "    <tr>\n",
              "      <th>818536</th>\n",
              "      <td>1991-09-23 23:40:00</td>\n",
              "      <td>2</td>\n",
              "      <td>2</td>\n",
              "      <td>SE</td>\n",
              "      <td>20</td>\n",
              "      <td>(2, 2, SE)</td>\n",
              "      <td>56</td>\n",
              "      <td>9</td>\n",
              "      <td>23</td>\n",
              "      <td>23</td>\n",
              "      <td>40</td>\n",
              "      <td>175</td>\n",
              "      <td>0</td>\n",
              "      <td>0</td>\n",
              "      <td>7</td>\n",
              "    </tr>\n",
              "    <tr>\n",
              "      <th>818537</th>\n",
              "      <td>1991-09-23 23:40:00</td>\n",
              "      <td>2</td>\n",
              "      <td>2</td>\n",
              "      <td>SW</td>\n",
              "      <td>45</td>\n",
              "      <td>(2, 2, SW)</td>\n",
              "      <td>57</td>\n",
              "      <td>9</td>\n",
              "      <td>23</td>\n",
              "      <td>23</td>\n",
              "      <td>40</td>\n",
              "      <td>175</td>\n",
              "      <td>0</td>\n",
              "      <td>0</td>\n",
              "      <td>5</td>\n",
              "    </tr>\n",
              "    <tr>\n",
              "      <th>818538</th>\n",
              "      <td>1991-09-23 23:40:00</td>\n",
              "      <td>2</td>\n",
              "      <td>2</td>\n",
              "      <td>WB</td>\n",
              "      <td>62</td>\n",
              "      <td>(2, 2, WB)</td>\n",
              "      <td>58</td>\n",
              "      <td>9</td>\n",
              "      <td>23</td>\n",
              "      <td>23</td>\n",
              "      <td>40</td>\n",
              "      <td>175</td>\n",
              "      <td>0</td>\n",
              "      <td>0</td>\n",
              "      <td>3</td>\n",
              "    </tr>\n",
              "    <tr>\n",
              "      <th>818539</th>\n",
              "      <td>1991-09-23 23:40:00</td>\n",
              "      <td>2</td>\n",
              "      <td>3</td>\n",
              "      <td>EB</td>\n",
              "      <td>44</td>\n",
              "      <td>(2, 3, EB)</td>\n",
              "      <td>59</td>\n",
              "      <td>9</td>\n",
              "      <td>23</td>\n",
              "      <td>23</td>\n",
              "      <td>40</td>\n",
              "      <td>175</td>\n",
              "      <td>0</td>\n",
              "      <td>0</td>\n",
              "      <td>0</td>\n",
              "    </tr>\n",
              "    <tr>\n",
              "      <th>818540</th>\n",
              "      <td>1991-09-23 23:40:00</td>\n",
              "      <td>2</td>\n",
              "      <td>3</td>\n",
              "      <td>NB</td>\n",
              "      <td>68</td>\n",
              "      <td>(2, 3, NB)</td>\n",
              "      <td>60</td>\n",
              "      <td>9</td>\n",
              "      <td>23</td>\n",
              "      <td>23</td>\n",
              "      <td>40</td>\n",
              "      <td>175</td>\n",
              "      <td>0</td>\n",
              "      <td>0</td>\n",
              "      <td>1</td>\n",
              "    </tr>\n",
              "    <tr>\n",
              "      <th>818541</th>\n",
              "      <td>1991-09-23 23:40:00</td>\n",
              "      <td>2</td>\n",
              "      <td>3</td>\n",
              "      <td>NE</td>\n",
              "      <td>18</td>\n",
              "      <td>(2, 3, NE)</td>\n",
              "      <td>61</td>\n",
              "      <td>9</td>\n",
              "      <td>23</td>\n",
              "      <td>23</td>\n",
              "      <td>40</td>\n",
              "      <td>175</td>\n",
              "      <td>0</td>\n",
              "      <td>0</td>\n",
              "      <td>4</td>\n",
              "    </tr>\n",
              "    <tr>\n",
              "      <th>818542</th>\n",
              "      <td>1991-09-23 23:40:00</td>\n",
              "      <td>2</td>\n",
              "      <td>3</td>\n",
              "      <td>SB</td>\n",
              "      <td>74</td>\n",
              "      <td>(2, 3, SB)</td>\n",
              "      <td>62</td>\n",
              "      <td>9</td>\n",
              "      <td>23</td>\n",
              "      <td>23</td>\n",
              "      <td>40</td>\n",
              "      <td>175</td>\n",
              "      <td>0</td>\n",
              "      <td>0</td>\n",
              "      <td>2</td>\n",
              "    </tr>\n",
              "    <tr>\n",
              "      <th>818543</th>\n",
              "      <td>1991-09-23 23:40:00</td>\n",
              "      <td>2</td>\n",
              "      <td>3</td>\n",
              "      <td>SW</td>\n",
              "      <td>11</td>\n",
              "      <td>(2, 3, SW)</td>\n",
              "      <td>63</td>\n",
              "      <td>9</td>\n",
              "      <td>23</td>\n",
              "      <td>23</td>\n",
              "      <td>40</td>\n",
              "      <td>175</td>\n",
              "      <td>0</td>\n",
              "      <td>0</td>\n",
              "      <td>5</td>\n",
              "    </tr>\n",
              "    <tr>\n",
              "      <th>818544</th>\n",
              "      <td>1991-09-23 23:40:00</td>\n",
              "      <td>2</td>\n",
              "      <td>3</td>\n",
              "      <td>WB</td>\n",
              "      <td>46</td>\n",
              "      <td>(2, 3, WB)</td>\n",
              "      <td>64</td>\n",
              "      <td>9</td>\n",
              "      <td>23</td>\n",
              "      <td>23</td>\n",
              "      <td>40</td>\n",
              "      <td>175</td>\n",
              "      <td>0</td>\n",
              "      <td>0</td>\n",
              "      <td>3</td>\n",
              "    </tr>\n",
              "  </tbody>\n",
              "</table>\n",
              "</div>\n",
              "      <button class=\"colab-df-convert\" onclick=\"convertToInteractive('df-653bc237-5b89-4009-8538-1aed9f842083')\"\n",
              "              title=\"Convert this dataframe to an interactive table.\"\n",
              "              style=\"display:none;\">\n",
              "        \n",
              "  <svg xmlns=\"http://www.w3.org/2000/svg\" height=\"24px\"viewBox=\"0 0 24 24\"\n",
              "       width=\"24px\">\n",
              "    <path d=\"M0 0h24v24H0V0z\" fill=\"none\"/>\n",
              "    <path d=\"M18.56 5.44l.94 2.06.94-2.06 2.06-.94-2.06-.94-.94-2.06-.94 2.06-2.06.94zm-11 1L8.5 8.5l.94-2.06 2.06-.94-2.06-.94L8.5 2.5l-.94 2.06-2.06.94zm10 10l.94 2.06.94-2.06 2.06-.94-2.06-.94-.94-2.06-.94 2.06-2.06.94z\"/><path d=\"M17.41 7.96l-1.37-1.37c-.4-.4-.92-.59-1.43-.59-.52 0-1.04.2-1.43.59L10.3 9.45l-7.72 7.72c-.78.78-.78 2.05 0 2.83L4 21.41c.39.39.9.59 1.41.59.51 0 1.02-.2 1.41-.59l7.78-7.78 2.81-2.81c.8-.78.8-2.07 0-2.86zM5.41 20L4 18.59l7.72-7.72 1.47 1.35L5.41 20z\"/>\n",
              "  </svg>\n",
              "      </button>\n",
              "      \n",
              "  <style>\n",
              "    .colab-df-container {\n",
              "      display:flex;\n",
              "      flex-wrap:wrap;\n",
              "      gap: 12px;\n",
              "    }\n",
              "\n",
              "    .colab-df-convert {\n",
              "      background-color: #E8F0FE;\n",
              "      border: none;\n",
              "      border-radius: 50%;\n",
              "      cursor: pointer;\n",
              "      display: none;\n",
              "      fill: #1967D2;\n",
              "      height: 32px;\n",
              "      padding: 0 0 0 0;\n",
              "      width: 32px;\n",
              "    }\n",
              "\n",
              "    .colab-df-convert:hover {\n",
              "      background-color: #E2EBFA;\n",
              "      box-shadow: 0px 1px 2px rgba(60, 64, 67, 0.3), 0px 1px 3px 1px rgba(60, 64, 67, 0.15);\n",
              "      fill: #174EA6;\n",
              "    }\n",
              "\n",
              "    [theme=dark] .colab-df-convert {\n",
              "      background-color: #3B4455;\n",
              "      fill: #D2E3FC;\n",
              "    }\n",
              "\n",
              "    [theme=dark] .colab-df-convert:hover {\n",
              "      background-color: #434B5C;\n",
              "      box-shadow: 0px 1px 3px 1px rgba(0, 0, 0, 0.15);\n",
              "      filter: drop-shadow(0px 1px 2px rgba(0, 0, 0, 0.3));\n",
              "      fill: #FFFFFF;\n",
              "    }\n",
              "  </style>\n",
              "\n",
              "      <script>\n",
              "        const buttonEl =\n",
              "          document.querySelector('#df-653bc237-5b89-4009-8538-1aed9f842083 button.colab-df-convert');\n",
              "        buttonEl.style.display =\n",
              "          google.colab.kernel.accessAllowed ? 'block' : 'none';\n",
              "\n",
              "        async function convertToInteractive(key) {\n",
              "          const element = document.querySelector('#df-653bc237-5b89-4009-8538-1aed9f842083');\n",
              "          const dataTable =\n",
              "            await google.colab.kernel.invokeFunction('convertToInteractive',\n",
              "                                                     [key], {});\n",
              "          if (!dataTable) return;\n",
              "\n",
              "          const docLinkHtml = 'Like what you see? Visit the ' +\n",
              "            '<a target=\"_blank\" href=https://colab.research.google.com/notebooks/data_table.ipynb>data table notebook</a>'\n",
              "            + ' to learn more about interactive tables.';\n",
              "          element.innerHTML = '';\n",
              "          dataTable['output_type'] = 'display_data';\n",
              "          await google.colab.output.renderOutput(dataTable, element);\n",
              "          const docLink = document.createElement('div');\n",
              "          docLink.innerHTML = docLinkHtml;\n",
              "          element.appendChild(docLink);\n",
              "        }\n",
              "      </script>\n",
              "    </div>\n",
              "  </div>\n",
              "  "
            ],
            "text/plain": [
              "                      time  x  y direction  congestion        road  road_id  \\\n",
              "row_id                                                                        \n",
              "818535 1991-09-23 23:40:00  2  2        SB          52  (2, 2, SB)       55   \n",
              "818536 1991-09-23 23:40:00  2  2        SE          20  (2, 2, SE)       56   \n",
              "818537 1991-09-23 23:40:00  2  2        SW          45  (2, 2, SW)       57   \n",
              "818538 1991-09-23 23:40:00  2  2        WB          62  (2, 2, WB)       58   \n",
              "818539 1991-09-23 23:40:00  2  3        EB          44  (2, 3, EB)       59   \n",
              "818540 1991-09-23 23:40:00  2  3        NB          68  (2, 3, NB)       60   \n",
              "818541 1991-09-23 23:40:00  2  3        NE          18  (2, 3, NE)       61   \n",
              "818542 1991-09-23 23:40:00  2  3        SB          74  (2, 3, SB)       62   \n",
              "818543 1991-09-23 23:40:00  2  3        SW          11  (2, 3, SW)       63   \n",
              "818544 1991-09-23 23:40:00  2  3        WB          46  (2, 3, WB)       64   \n",
              "\n",
              "        month  day  hour  minute  days_past  weekday  is_weekend  direction_id  \n",
              "row_id                                                                          \n",
              "818535      9   23    23      40        175        0           0             2  \n",
              "818536      9   23    23      40        175        0           0             7  \n",
              "818537      9   23    23      40        175        0           0             5  \n",
              "818538      9   23    23      40        175        0           0             3  \n",
              "818539      9   23    23      40        175        0           0             0  \n",
              "818540      9   23    23      40        175        0           0             1  \n",
              "818541      9   23    23      40        175        0           0             4  \n",
              "818542      9   23    23      40        175        0           0             2  \n",
              "818543      9   23    23      40        175        0           0             5  \n",
              "818544      9   23    23      40        175        0           0             3  "
            ]
          },
          "metadata": {},
          "execution_count": 34
        }
      ]
    },
    {
      "cell_type": "markdown",
      "source": [
        "Every locations are at least an intersection"
      ],
      "metadata": {
        "id": "f9z0_aR126xB"
      }
    },
    {
      "cell_type": "code",
      "source": [
        "for group_key, group_value in train.groupby(['x', 'y']):\n",
        "  print(group_key, group_value['direction'].unique())"
      ],
      "metadata": {
        "colab": {
          "base_uri": "https://localhost:8080/"
        },
        "id": "yVd7mzJEvjSA",
        "outputId": "c5ccfcbb-c896-4fc8-a385-be527198822d"
      },
      "execution_count": 15,
      "outputs": [
        {
          "output_type": "stream",
          "name": "stdout",
          "text": [
            "(0, 0) ['EB' 'NB' 'SB']\n",
            "(0, 1) ['EB' 'NB' 'SB' 'WB']\n",
            "(0, 2) ['EB' 'NB' 'SB' 'WB']\n",
            "(0, 3) ['EB' 'NB' 'NE' 'SB' 'SW' 'WB']\n",
            "(1, 0) ['EB' 'NB' 'NE' 'SB' 'SW' 'WB']\n",
            "(1, 1) ['EB' 'NB' 'SB' 'WB']\n",
            "(1, 2) ['EB' 'NB' 'NE' 'SB' 'SW' 'WB']\n",
            "(1, 3) ['EB' 'NB' 'NE' 'SB' 'SW' 'WB']\n",
            "(2, 0) ['EB' 'NB' 'SB' 'WB']\n",
            "(2, 1) ['EB' 'NB' 'NE' 'NW' 'SB' 'SE' 'SW' 'WB']\n",
            "(2, 2) ['EB' 'NB' 'NE' 'NW' 'SB' 'SE' 'SW' 'WB']\n",
            "(2, 3) ['EB' 'NB' 'NE' 'SB' 'SW' 'WB']\n"
          ]
        }
      ]
    },
    {
      "cell_type": "code",
      "source": [
        "def preprocess(data):\n",
        "  data['month'] = [d.month for d in data['time']]\n",
        "  data['day'] = [d.day for d in data['time']]\n",
        "  data['hour'] = [d.hour for d in data['time']]\n",
        "  data['minute'] = [d.minute for d in data['time']]\n",
        "\n",
        "  march_first = datetime.date(1991,4,1)\n",
        "  data['days_past'] = [(d.date()-march_first).days for d in data['time']]\n",
        "  data['weekday'] = data['days_past']%7\n",
        "  data['is_weekend'] = np.where((data['weekday']-4)>0, 1, 0)\n",
        "  return data"
      ],
      "metadata": {
        "id": "rBifLu4Y_H3D"
      },
      "execution_count": 16,
      "outputs": []
    },
    {
      "cell_type": "code",
      "source": [
        "for df in (train, test):\n",
        "  preprocess(df)"
      ],
      "metadata": {
        "id": "xuOwmq0Q_N9y"
      },
      "execution_count": 17,
      "outputs": []
    },
    {
      "cell_type": "markdown",
      "source": [
        "## Training"
      ],
      "metadata": {
        "id": "ue6iWouNBosm"
      }
    },
    {
      "cell_type": "code",
      "source": [
        "time_feature = ['weekday','is_weekend','hour','minute','days_past', 'day','month']\n",
        "geo_feature = ['road_id','x','y']\n",
        "all = time_feature + geo_feature"
      ],
      "metadata": {
        "id": "g_OyeLmeG4_q"
      },
      "execution_count": 21,
      "outputs": []
    },
    {
      "cell_type": "code",
      "source": [
        "# !EXPERIMENTAL!\n",
        "time_feature = ['hour', 'minute', 'day', 'month']\n",
        "geo_feature = ['road_id', 'x', 'y', 'direction_id']\n",
        "all = time_feature + geo_feature\n",
        "train = train[(train['weekday'] == 0) & (train['hour'] >= 12)]"
      ],
      "metadata": {
        "id": "DrJI8tEiN2zG"
      },
      "execution_count": 35,
      "outputs": []
    },
    {
      "cell_type": "code",
      "source": [
        "train_X, val_X, train_y, val_y = train_test_split(train[all], \n",
        "                                                  train['congestion'], \n",
        "                                                  random_state=1)"
      ],
      "metadata": {
        "id": "W78wLBrOBqde"
      },
      "execution_count": 36,
      "outputs": []
    },
    {
      "cell_type": "code",
      "source": [
        "model = RandomForestRegressor(max_features='auto',\n",
        "                              verbose=2, \n",
        "                              random_state=1)\n",
        "model.fit(train_X, train_y)"
      ],
      "metadata": {
        "colab": {
          "base_uri": "https://localhost:8080/"
        },
        "id": "D7BjpI1pIsp5",
        "outputId": "7bc99697-d6ec-4f6d-9810-008f6967dc78"
      },
      "execution_count": 37,
      "outputs": [
        {
          "output_type": "stream",
          "name": "stderr",
          "text": [
            "[Parallel(n_jobs=1)]: Using backend SequentialBackend with 1 concurrent workers.\n",
            "[Parallel(n_jobs=1)]: Done   1 out of   1 | elapsed:    0.1s remaining:    0.0s\n"
          ]
        },
        {
          "output_type": "stream",
          "name": "stdout",
          "text": [
            "building tree 1 of 100\n",
            "building tree 2 of 100\n",
            "building tree 3 of 100\n",
            "building tree 4 of 100\n",
            "building tree 5 of 100\n",
            "building tree 6 of 100\n",
            "building tree 7 of 100\n",
            "building tree 8 of 100\n",
            "building tree 9 of 100\n",
            "building tree 10 of 100\n",
            "building tree 11 of 100\n",
            "building tree 12 of 100\n",
            "building tree 13 of 100\n",
            "building tree 14 of 100\n",
            "building tree 15 of 100\n",
            "building tree 16 of 100\n",
            "building tree 17 of 100\n",
            "building tree 18 of 100\n",
            "building tree 19 of 100\n",
            "building tree 20 of 100\n",
            "building tree 21 of 100\n",
            "building tree 22 of 100\n",
            "building tree 23 of 100\n",
            "building tree 24 of 100\n",
            "building tree 25 of 100\n",
            "building tree 26 of 100\n",
            "building tree 27 of 100\n",
            "building tree 28 of 100\n",
            "building tree 29 of 100\n",
            "building tree 30 of 100\n",
            "building tree 31 of 100\n",
            "building tree 32 of 100\n",
            "building tree 33 of 100\n",
            "building tree 34 of 100\n",
            "building tree 35 of 100\n",
            "building tree 36 of 100\n",
            "building tree 37 of 100\n",
            "building tree 38 of 100\n",
            "building tree 39 of 100\n",
            "building tree 40 of 100\n",
            "building tree 41 of 100\n",
            "building tree 42 of 100\n",
            "building tree 43 of 100\n",
            "building tree 44 of 100\n",
            "building tree 45 of 100\n",
            "building tree 46 of 100\n",
            "building tree 47 of 100\n",
            "building tree 48 of 100\n",
            "building tree 49 of 100\n",
            "building tree 50 of 100\n",
            "building tree 51 of 100\n",
            "building tree 52 of 100\n",
            "building tree 53 of 100\n",
            "building tree 54 of 100\n",
            "building tree 55 of 100\n",
            "building tree 56 of 100\n",
            "building tree 57 of 100\n",
            "building tree 58 of 100\n",
            "building tree 59 of 100\n",
            "building tree 60 of 100\n",
            "building tree 61 of 100\n",
            "building tree 62 of 100\n",
            "building tree 63 of 100\n",
            "building tree 64 of 100\n",
            "building tree 65 of 100\n",
            "building tree 66 of 100\n",
            "building tree 67 of 100\n",
            "building tree 68 of 100\n",
            "building tree 69 of 100\n",
            "building tree 70 of 100\n",
            "building tree 71 of 100\n",
            "building tree 72 of 100\n",
            "building tree 73 of 100\n",
            "building tree 74 of 100\n",
            "building tree 75 of 100\n",
            "building tree 76 of 100\n",
            "building tree 77 of 100\n",
            "building tree 78 of 100\n",
            "building tree 79 of 100\n",
            "building tree 80 of 100\n",
            "building tree 81 of 100\n",
            "building tree 82 of 100\n",
            "building tree 83 of 100\n",
            "building tree 84 of 100\n",
            "building tree 85 of 100\n",
            "building tree 86 of 100\n",
            "building tree 87 of 100\n",
            "building tree 88 of 100\n",
            "building tree 89 of 100\n",
            "building tree 90 of 100\n",
            "building tree 91 of 100\n",
            "building tree 92 of 100\n",
            "building tree 93 of 100\n",
            "building tree 94 of 100\n",
            "building tree 95 of 100\n",
            "building tree 96 of 100\n",
            "building tree 97 of 100\n",
            "building tree 98 of 100\n",
            "building tree 99 of 100\n",
            "building tree 100 of 100\n"
          ]
        },
        {
          "output_type": "stream",
          "name": "stderr",
          "text": [
            "[Parallel(n_jobs=1)]: Done 100 out of 100 | elapsed:   10.8s finished\n"
          ]
        },
        {
          "output_type": "execute_result",
          "data": {
            "text/plain": [
              "RandomForestRegressor(random_state=1, verbose=2)"
            ]
          },
          "metadata": {},
          "execution_count": 37
        }
      ]
    },
    {
      "cell_type": "code",
      "source": [
        "model.get_params()"
      ],
      "metadata": {
        "colab": {
          "base_uri": "https://localhost:8080/"
        },
        "id": "hhmhMHRSD8HU",
        "outputId": "5d949e27-4bbc-4ffe-ed1d-a7628c81bb37"
      },
      "execution_count": 38,
      "outputs": [
        {
          "output_type": "execute_result",
          "data": {
            "text/plain": [
              "{'bootstrap': True,\n",
              " 'ccp_alpha': 0.0,\n",
              " 'criterion': 'squared_error',\n",
              " 'max_depth': None,\n",
              " 'max_features': 'auto',\n",
              " 'max_leaf_nodes': None,\n",
              " 'max_samples': None,\n",
              " 'min_impurity_decrease': 0.0,\n",
              " 'min_samples_leaf': 1,\n",
              " 'min_samples_split': 2,\n",
              " 'min_weight_fraction_leaf': 0.0,\n",
              " 'n_estimators': 100,\n",
              " 'n_jobs': None,\n",
              " 'oob_score': False,\n",
              " 'random_state': 1,\n",
              " 'verbose': 2,\n",
              " 'warm_start': False}"
            ]
          },
          "metadata": {},
          "execution_count": 38
        }
      ]
    },
    {
      "cell_type": "code",
      "source": [
        "n_estimators = [int(x) for x in np.linspace(start = 200, stop = 300, num = 5)]\n",
        "max_features = ['auto']\n",
        "max_depth = [90]\n",
        "max_depth.append(None)\n",
        "min_samples_split = [5, 7]\n",
        "min_samples_leaf = [2, 4]\n",
        "bootstrap = [True]\n"
      ],
      "metadata": {
        "id": "g_TLgzDACjVx"
      },
      "execution_count": 54,
      "outputs": []
    },
    {
      "cell_type": "code",
      "source": [
        "random_grid = {'n_estimators': n_estimators,\n",
        "               'max_features': max_features,\n",
        "               'max_depth': max_depth,\n",
        "               'min_samples_split': min_samples_split,\n",
        "               'min_samples_leaf': min_samples_leaf,\n",
        "               'bootstrap': bootstrap}"
      ],
      "metadata": {
        "id": "1MAwbdeoFAbq"
      },
      "execution_count": 55,
      "outputs": []
    },
    {
      "cell_type": "code",
      "source": [
        "rf = RandomForestRegressor(random_state=1)\n",
        "rf_random = RandomizedSearchCV(estimator = rf, \n",
        "                               param_distributions = random_grid, \n",
        "                               n_iter = 5, \n",
        "                               cv = 2, \n",
        "                               verbose=2, \n",
        "                               random_state=1)"
      ],
      "metadata": {
        "id": "5swz2PkiFBaq"
      },
      "execution_count": 58,
      "outputs": []
    },
    {
      "cell_type": "code",
      "source": [
        "rf_random.fit(train_X, train_y)"
      ],
      "metadata": {
        "colab": {
          "base_uri": "https://localhost:8080/"
        },
        "id": "wk_ZBuHZFVsT",
        "outputId": "a7bb89a0-93c8-4f80-f70f-198e1edffd90"
      },
      "execution_count": null,
      "outputs": [
        {
          "output_type": "stream",
          "name": "stdout",
          "text": [
            "Fitting 2 folds for each of 5 candidates, totalling 10 fits\n",
            "[CV] END bootstrap=True, max_depth=90, max_features=auto, min_samples_leaf=2, min_samples_split=5, n_estimators=250; total time=  10.7s\n"
          ]
        }
      ]
    },
    {
      "cell_type": "code",
      "source": [
        "rf_random.best_params_"
      ],
      "metadata": {
        "colab": {
          "base_uri": "https://localhost:8080/"
        },
        "id": "qlhcg77fRbpQ",
        "outputId": "508ab69e-7221-4cf1-93cd-7a25e438ed8b"
      },
      "execution_count": 50,
      "outputs": [
        {
          "output_type": "execute_result",
          "data": {
            "text/plain": [
              "{'bootstrap': True,\n",
              " 'max_depth': 90,\n",
              " 'max_features': 'auto',\n",
              " 'min_samples_leaf': 2,\n",
              " 'min_samples_split': 5,\n",
              " 'n_estimators': 200}"
            ]
          },
          "metadata": {},
          "execution_count": 50
        }
      ]
    },
    {
      "cell_type": "code",
      "source": [
        ""
      ],
      "metadata": {
        "id": "HbBX2NSRRciz"
      },
      "execution_count": null,
      "outputs": []
    },
    {
      "cell_type": "code",
      "source": [
        "model = RandomForestRegressor(bootstrap=True,\n",
        "                              max_depth=90,\n",
        "                              max_features='auto',\n",
        "                              min_samples_leaf=2,\n",
        "                              min_samples_split= 5,\n",
        "                              n_estimators=200)\n",
        "model.fit(train_X, train_y)"
      ],
      "metadata": {
        "id": "pdhGnEzQCmOA",
        "colab": {
          "base_uri": "https://localhost:8080/"
        },
        "outputId": "3c4a405b-b68b-446c-d620-e340e7a9864a"
      },
      "execution_count": 51,
      "outputs": [
        {
          "output_type": "execute_result",
          "data": {
            "text/plain": [
              "RandomForestRegressor(max_depth=90, min_samples_leaf=2, min_samples_split=5,\n",
              "                      n_estimators=200)"
            ]
          },
          "metadata": {},
          "execution_count": 51
        }
      ]
    },
    {
      "cell_type": "code",
      "source": [
        "for k,v in dict(zip(all, model.feature_importances_)).items():\n",
        "  print(f'{k} : {v:.3f}')"
      ],
      "metadata": {
        "colab": {
          "base_uri": "https://localhost:8080/"
        },
        "id": "1gzwsKvXGfg7",
        "outputId": "a3db259b-720f-43c4-c13b-b63d0a6caf08"
      },
      "execution_count": 52,
      "outputs": [
        {
          "output_type": "stream",
          "name": "stdout",
          "text": [
            "hour : 0.097\n",
            "minute : 0.025\n",
            "day : 0.065\n",
            "month : 0.039\n",
            "road_id : 0.428\n",
            "x : 0.043\n",
            "y : 0.045\n",
            "direction_id : 0.258\n"
          ]
        }
      ]
    },
    {
      "cell_type": "markdown",
      "source": [
        "* road_id is the most relevant feature\n",
        "* weekend or not traffic looks pretty similar\n",
        "* does it make sense that y is 10 times more important than x is !?!"
      ],
      "metadata": {
        "id": "akWitZNILV7y"
      }
    },
    {
      "cell_type": "code",
      "source": [
        "print(mean_absolute_error(val_y, model.predict(val_X)))\n",
        "print(mean_absolute_error(val_y, model.predict(val_X).round()))"
      ],
      "metadata": {
        "colab": {
          "base_uri": "https://localhost:8080/"
        },
        "id": "A_b3kvfQCxBb",
        "outputId": "ec8cfec8-682d-4d20-a902-8163b891182e"
      },
      "execution_count": 53,
      "outputs": [
        {
          "output_type": "stream",
          "name": "stdout",
          "text": [
            "5.453076254506829\n",
            "5.447468770545694\n"
          ]
        }
      ]
    }
  ]
}